{
 "cells": [
  {
   "cell_type": "markdown",
   "metadata": {},
   "source": [
    "# 讀取資料"
   ]
  },
  {
   "cell_type": "code",
   "execution_count": 1,
   "metadata": {
    "collapsed": true
   },
   "outputs": [],
   "source": [
    "import numpy as np\n",
    "import pandas as pd\n",
    "import tensorflow as tf\n",
    "from sklearn.model_selection import train_test_split\n",
    "from sklearn.datasets import load_boston\n",
    "import matplotlib.pyplot as plt\n",
    "boston = load_boston()\n"
   ]
  },
  {
   "cell_type": "code",
   "execution_count": 2,
   "metadata": {
    "collapsed": true
   },
   "outputs": [],
   "source": [
    "bos = pd.DataFrame(boston.data)\n",
    "\n"
   ]
  },
  {
   "cell_type": "markdown",
   "metadata": {},
   "source": [
    "# 觀察變數"
   ]
  },
  {
   "cell_type": "code",
   "execution_count": 3,
   "metadata": {},
   "outputs": [
    {
     "name": "stdout",
     "output_type": "stream",
     "text": [
      "      CRIM    ZN  INDUS  CHAS    NOX     RM   AGE     DIS  RAD    TAX  \\\n",
      "0  0.00632  18.0   2.31   0.0  0.538  6.575  65.2  4.0900  1.0  296.0   \n",
      "1  0.02731   0.0   7.07   0.0  0.469  6.421  78.9  4.9671  2.0  242.0   \n",
      "2  0.02729   0.0   7.07   0.0  0.469  7.185  61.1  4.9671  2.0  242.0   \n",
      "3  0.03237   0.0   2.18   0.0  0.458  6.998  45.8  6.0622  3.0  222.0   \n",
      "4  0.06905   0.0   2.18   0.0  0.458  7.147  54.2  6.0622  3.0  222.0   \n",
      "\n",
      "   PTRATIO       B  LSTAT  PRICE  \n",
      "0     15.3  396.90   4.98   24.0  \n",
      "1     17.8  396.90   9.14   21.6  \n",
      "2     17.8  392.83   4.03   34.7  \n",
      "3     18.7  394.63   2.94   33.4  \n",
      "4     18.7  396.90   5.33   36.2  \n"
     ]
    }
   ],
   "source": [
    "bos.columns = boston.feature_names\n",
    "bos['PRICE'] = boston.target\n",
    "print(bos.head())"
   ]
  },
  {
   "cell_type": "code",
   "execution_count": 4,
   "metadata": {},
   "outputs": [
    {
     "name": "stdout",
     "output_type": "stream",
     "text": [
      "(404, 13)\n",
      "(102, 13)\n",
      "(404,)\n",
      "(102,)\n"
     ]
    }
   ],
   "source": [
    "X = bos.drop('PRICE', axis = 1)\n",
    "Y = bos['PRICE']\n",
    "X_train, X_test, Y_train, Y_test = train_test_split(X, Y, test_size = 0.2, random_state = 5)\n",
    "print(X_train.shape)\n",
    "print(X_test.shape)\n",
    "print(Y_train.shape)\n",
    "print(Y_test.shape)"
   ]
  },
  {
   "cell_type": "code",
   "execution_count": 5,
   "metadata": {
    "collapsed": true
   },
   "outputs": [],
   "source": [
    "X_train = np.float32(np.array(X_train))\n",
    "X_test = np.float32(np.array(X_test))\n",
    "Y_train = np.float32(np.array(Y_train))[:, np.newaxis]\n",
    "Y_test = np.float32(np.array(Y_test))[:, np.newaxis]\n",
    "\n"
   ]
  },
  {
   "cell_type": "code",
   "execution_count": 6,
   "metadata": {},
   "outputs": [
    {
     "name": "stdout",
     "output_type": "stream",
     "text": [
      "(404, 13)\n",
      "(102, 13)\n",
      "(404, 1)\n",
      "(102, 1)\n"
     ]
    }
   ],
   "source": [
    "print(X_train.shape)\n",
    "print(X_test.shape)\n",
    "print(Y_train.shape)\n",
    "print(Y_test.shape)"
   ]
  },
  {
   "cell_type": "markdown",
   "metadata": {},
   "source": [
    "# 開始建模\n"
   ]
  },
  {
   "cell_type": "code",
   "execution_count": 122,
   "metadata": {
    "collapsed": true
   },
   "outputs": [],
   "source": [
    "def add_layer(inputs, in_size, out_size, activation_function=None,):\n",
    "    # add one more layer and return the output of this layer\n",
    "    Weights = tf.Variable(tf.random_normal([in_size, out_size]))\n",
    "    biases = tf.Variable(tf.zeros([1, out_size]) + 0.1,)\n",
    "    Wx_plus_b = tf.matmul(inputs, Weights) + biases\n",
    "    if activation_function is None:\n",
    "        outputs = Wx_plus_b\n",
    "    else:\n",
    "        outputs = activation_function(Wx_plus_b,)\n",
    "    return outputs"
   ]
  },
  {
   "cell_type": "code",
   "execution_count": 9,
   "metadata": {
    "collapsed": true
   },
   "outputs": [],
   "source": [
    "xs = tf.placeholder(tf.float32, [None, 13])\n",
    "ys = tf.placeholder(tf.float32, [None, 1])"
   ]
  },
  {
   "cell_type": "markdown",
   "metadata": {},
   "source": [
    "# 一般的神經網路\n",
    "## 矩形"
   ]
  },
  {
   "cell_type": "code",
   "execution_count": 128,
   "metadata": {
    "collapsed": true
   },
   "outputs": [],
   "source": [
    "l1 = add_layer(xs, 13, 250,  activation_function=tf.nn.tanh)\n",
    "l2 = add_layer(l1, 250, 250,  activation_function=tf.nn.tanh)\n",
    "l3 = add_layer(l2, 250, 250,  activation_function=tf.nn.tanh)\n",
    "l4 = add_layer(l3, 250, 250,  activation_function=tf.nn.tanh)\n",
    "l5 = add_layer(l4, 250, 250,  activation_function=tf.nn.tanh)\n",
    "prediction = add_layer(l5, 250, 1,  activation_function=tf.nn.relu)\n",
    "loss = tf.reduce_mean(tf.reduce_sum(tf.square(ys-prediction), reduction_indices=[1])) # loss\n",
    "\n",
    "train_step = tf.train.GradientDescentOptimizer(0.001).minimize(loss)\n",
    "sess = tf.Session()"
   ]
  },
  {
   "cell_type": "code",
   "execution_count": 130,
   "metadata": {},
   "outputs": [
    {
     "name": "stdout",
     "output_type": "stream",
     "text": [
      "0 207.689 191.323\n",
      "1000 70.88 65.4085\n",
      "2000 71.5356 64.6833\n",
      "3000 61.2308 53.1026\n",
      "4000 60.237 54.344\n",
      "5000 60.9174 58.7933\n",
      "6000 60.9132 58.9486\n",
      "7000 60.9371 59.18\n",
      "8000 60.937 59.1909\n",
      "9000 60.937 59.2009\n"
     ]
    }
   ],
   "source": [
    "init = tf.global_variables_initializer()\n",
    "sess.run(init)\n",
    "\n",
    "for i in range(10000):\n",
    "    \n",
    "    sess.run(train_step, feed_dict={xs: X_train, ys: Y_train})\n",
    "    if i % 1000 == 0:\n",
    "        print(i,sess.run(loss, feed_dict={xs: X_train, ys: Y_train}),\n",
    "              sess.run(loss, feed_dict={xs: X_test, ys: Y_test}))"
   ]
  },
  {
   "cell_type": "code",
   "execution_count": 130,
   "metadata": {},
   "outputs": [
    {
     "data": {
      "image/png": "[encoded data removed]",
      "text/plain": [
       "<matplotlib.figure.Figure at 0x149d75a6be0>"
      ]
     },
     "metadata": {},
     "output_type": "display_data"
    }
   ],
   "source": [
    "X_figure1 = sess.run(prediction,feed_dict = {xs: X_train})\n",
    "Y_figure1 = Y_train\n",
    "X_figure2 = sess.run(prediction,feed_dict = {xs: X_test})\n",
    "Y_figure2 = Y_test\n",
    "plt.scatter(X_figure1,Y_figure1)\n",
    "plt.scatter(X_figure2,Y_figure2)\n",
    "plt.show()"
   ]
  },
  {
   "cell_type": "markdown",
   "metadata": {},
   "source": [
    "## 前寬後窄"
   ]
  },
  {
   "cell_type": "code",
   "execution_count": 131,
   "metadata": {},
   "outputs": [
    {
     "name": "stdout",
     "output_type": "stream",
     "text": [
      "0 432.704 409.816\n",
      "1000 60.6147 60.1219\n",
      "2000 60.1252 61.0109\n",
      "3000 59.9057 60.1086\n",
      "4000 59.8305 62.2699\n",
      "5000 59.7729 63.5327\n",
      "6000 59.7246 64.6142\n",
      "7000 59.7011 65.4893\n",
      "8000 59.6824 65.873\n",
      "9000 59.7418 63.1285\n"
     ]
    }
   ],
   "source": [
    "l1 = add_layer(xs, 13, 250,  activation_function=tf.nn.tanh)\n",
    "l2 = add_layer(l1, 250, 200,  activation_function=tf.nn.tanh)\n",
    "l3 = add_layer(l2, 200, 150,  activation_function=tf.nn.tanh)\n",
    "l4 = add_layer(l3, 150, 100,  activation_function=tf.nn.tanh)\n",
    "l5 = add_layer(l4, 100, 50,  activation_function=tf.nn.tanh)\n",
    "prediction = add_layer(l5, 50, 1,  activation_function=tf.nn.relu)\n",
    "loss = tf.reduce_mean(tf.reduce_sum(tf.square(ys-prediction), reduction_indices=[1])) # loss\n",
    "\n",
    "train_step = tf.train.GradientDescentOptimizer(0.001).minimize(loss)\n",
    "sess = tf.Session()\n",
    "#start run\n",
    "init = tf.global_variables_initializer()\n",
    "sess.run(init)\n",
    "\n",
    "for i in range(10000):\n",
    "    \n",
    "    sess.run(train_step, feed_dict={xs: X_train, ys: Y_train})\n",
    "    if i % 1000 == 0:\n",
    "        print(i,sess.run(loss, feed_dict={xs: X_train, ys: Y_train}),\n",
    "              sess.run(loss, feed_dict={xs: X_test, ys: Y_test}))\n"
   ]
  },
  {
   "cell_type": "code",
   "execution_count": 132,
   "metadata": {},
   "outputs": [
    {
     "data": {
      "image/png": "[encoded data removed]",
      "text/plain": [
       "<matplotlib.figure.Figure at 0x149dd954c18>"
      ]
     },
     "metadata": {},
     "output_type": "display_data"
    }
   ],
   "source": [
    "X_figure1 = sess.run(prediction,feed_dict = {xs: X_train})\n",
    "Y_figure1 = Y_train\n",
    "X_figure2 = sess.run(prediction,feed_dict = {xs: X_test})\n",
    "Y_figure2 = Y_test\n",
    "plt.scatter(X_figure1,Y_figure1)\n",
    "plt.scatter(X_figure2,Y_figure2)\n",
    "plt.show()\n"
   ]
  },
  {
   "cell_type": "markdown",
   "metadata": {},
   "source": [
    "## 前窄後寬"
   ]
  },
  {
   "cell_type": "code",
   "execution_count": 133,
   "metadata": {},
   "outputs": [
    {
     "name": "stdout",
     "output_type": "stream",
     "text": [
      "0 574.544 545.727\n",
      "1000 68.3319 61.7462\n",
      "2000 68.3037 61.9786\n",
      "3000 68.2986 62.0606\n",
      "4000 68.2976 62.1384\n",
      "5000 68.2974 62.2578\n",
      "6000 68.2973 62.0968\n",
      "7000 68.2973 62.1204\n",
      "8000 68.2973 62.0829\n",
      "9000 68.2973 62.1136\n"
     ]
    }
   ],
   "source": [
    "l1 = add_layer(xs, 13, 50,  activation_function=tf.nn.tanh)\n",
    "l2 = add_layer(l1, 50, 100,  activation_function=tf.nn.tanh)\n",
    "l3 = add_layer(l2, 100, 150,  activation_function=tf.nn.tanh)\n",
    "l4 = add_layer(l3, 150, 200,  activation_function=tf.nn.tanh)\n",
    "l5 = add_layer(l4, 200, 250,  activation_function=tf.nn.tanh)\n",
    "prediction = add_layer(l5, 250, 1,  activation_function=tf.nn.relu)\n",
    "loss = tf.reduce_mean(tf.reduce_sum(tf.square(ys-prediction), reduction_indices=[1])) # loss\n",
    "\n",
    "train_step = tf.train.GradientDescentOptimizer(0.001).minimize(loss)\n",
    "sess = tf.Session()\n",
    "#start run\n",
    "init = tf.global_variables_initializer()\n",
    "sess.run(init)\n",
    "\n",
    "for i in range(10000):\n",
    "    \n",
    "    sess.run(train_step, feed_dict={xs: X_train, ys: Y_train})\n",
    "    if i % 1000 == 0:\n",
    "        print(i,sess.run(loss, feed_dict={xs: X_train, ys: Y_train}),\n",
    "              sess.run(loss, feed_dict={xs: X_test, ys: Y_test}))"
   ]
  },
  {
   "cell_type": "code",
   "execution_count": 134,
   "metadata": {},
   "outputs": [
    {
     "data": {
      "image/png": "[encoded data removed]",
      "text/plain": [
       "<matplotlib.figure.Figure at 0x149de5008d0>"
      ]
     },
     "metadata": {},
     "output_type": "display_data"
    }
   ],
   "source": [
    "X_figure1 = sess.run(prediction,feed_dict = {xs: X_train})\n",
    "Y_figure1 = Y_train\n",
    "X_figure2 = sess.run(prediction,feed_dict = {xs: X_test})\n",
    "Y_figure2 = Y_test\n",
    "plt.scatter(X_figure1,Y_figure1)\n",
    "plt.scatter(X_figure2,Y_figure2)\n",
    "plt.show()"
   ]
  },
  {
   "cell_type": "markdown",
   "metadata": {},
   "source": [
    "# 三個合成函數的神經網路\n",
    "## 矩形"
   ]
  },
  {
   "cell_type": "code",
   "execution_count": 152,
   "metadata": {},
   "outputs": [
    {
     "name": "stdout",
     "output_type": "stream",
     "text": [
      "0 94.7383 85.2824\n",
      "1000 85.8357 78.5639\n",
      "2000 63.2514 58.3841\n",
      "3000 66.215 58.4655\n",
      "4000 63.842 60.3107\n",
      "5000 64.6248 61.2542\n",
      "6000 66.3305 63.6855\n",
      "7000 64.7914 63.9269\n",
      "8000 61.9197 56.1789\n",
      "9000 61.6806 55.9116\n"
     ]
    }
   ],
   "source": [
    "l1 = add_layer(xs, 13, 150,  activation_function=tf.nn.tanh)\n",
    "l2 = add_layer(l1, 150, 1,  activation_function=None)\n",
    "l3 = add_layer(l2, 1, 150,  activation_function=tf.nn.tanh)\n",
    "l4 = add_layer(l3, 150, 1,  activation_function=None)\n",
    "l5 = add_layer(l4, 1, 150,  activation_function=tf.nn.tanh)\n",
    "prediction = add_layer(l5, 150, 1,  activation_function=None)\n",
    "loss = tf.reduce_mean(tf.reduce_sum(tf.square(ys-prediction), reduction_indices=[1])) # loss\n",
    "\n",
    "train_step = tf.train.GradientDescentOptimizer(0.001).minimize(loss)\n",
    "sess = tf.Session()\n",
    "#start run\n",
    "init = tf.global_variables_initializer()\n",
    "sess.run(init)\n",
    "\n",
    "for i in range(10000):\n",
    "    \n",
    "    sess.run(train_step, feed_dict={xs: X_train, ys: Y_train})\n",
    "    if i % 1000 == 0:\n",
    "        print(i,sess.run(loss, feed_dict={xs: X_train, ys: Y_train}),\n",
    "              sess.run(loss, feed_dict={xs: X_test, ys: Y_test}))"
   ]
  },
  {
   "cell_type": "code",
   "execution_count": 153,
   "metadata": {},
   "outputs": [
    {
     "data": {
      "image/png": "[encoded data removed]",
      "text/plain": [
       "<matplotlib.figure.Figure at 0x149e1fa5cc0>"
      ]
     },
     "metadata": {},
     "output_type": "display_data"
    }
   ],
   "source": [
    "X_figure1 = sess.run(prediction,feed_dict = {xs: X_train})\n",
    "Y_figure1 = Y_train\n",
    "X_figure2 = sess.run(prediction,feed_dict = {xs: X_test})\n",
    "Y_figure2 = Y_test\n",
    "plt.scatter(X_figure1,Y_figure1)\n",
    "plt.scatter(X_figure2,Y_figure2)\n",
    "plt.show()"
   ]
  },
  {
   "cell_type": "markdown",
   "metadata": {},
   "source": [
    "## 前寬後窄"
   ]
  },
  {
   "cell_type": "code",
   "execution_count": 150,
   "metadata": {},
   "outputs": [
    {
     "name": "stdout",
     "output_type": "stream",
     "text": [
      "0 654.347 635.627\n",
      "1000 76.1246 68.3274\n",
      "2000 68.9167 76.4447\n",
      "3000 66.8792 72.5361\n",
      "4000 62.2546 57.3025\n",
      "5000 60.3165 56.4834\n",
      "6000 60.0611 55.5953\n",
      "7000 59.8023 55.7696\n",
      "8000 59.1081 55.9398\n",
      "9000 57.7849 55.1728\n"
     ]
    }
   ],
   "source": [
    "l1 = add_layer(xs, 13, 150,  activation_function=tf.nn.tanh)\n",
    "l2 = add_layer(l1, 150, 1,  activation_function=None)\n",
    "l3 = add_layer(l2, 1, 100,  activation_function=tf.nn.tanh)\n",
    "l4 = add_layer(l3, 100, 1,  activation_function=None)\n",
    "l5 = add_layer(l4, 1, 50,  activation_function=tf.nn.tanh)\n",
    "prediction = add_layer(l5, 50, 1,  activation_function=None)\n",
    "loss = tf.reduce_mean(tf.reduce_sum(tf.square(ys-prediction), reduction_indices=[1])) # loss\n",
    "\n",
    "train_step = tf.train.GradientDescentOptimizer(0.001).minimize(loss)\n",
    "sess = tf.Session()\n",
    "#start run\n",
    "init = tf.global_variables_initializer()\n",
    "sess.run(init)\n",
    "\n",
    "for i in range(10000):\n",
    "    \n",
    "    sess.run(train_step, feed_dict={xs: X_train, ys: Y_train})\n",
    "    if i % 1000 == 0:\n",
    "        print(i,sess.run(loss, feed_dict={xs: X_train, ys: Y_train}),\n",
    "              sess.run(loss, feed_dict={xs: X_test, ys: Y_test}))"
   ]
  },
  {
   "cell_type": "code",
   "execution_count": 151,
   "metadata": {},
   "outputs": [
    {
     "data": {
      "image/png": "[encoded data removed]",
      "text/plain": [
       "<matplotlib.figure.Figure at 0x149dc2aa320>"
      ]
     },
     "metadata": {},
     "output_type": "display_data"
    }
   ],
   "source": [
    "X_figure1 = sess.run(prediction,feed_dict = {xs: X_train})\n",
    "Y_figure1 = Y_train\n",
    "X_figure2 = sess.run(prediction,feed_dict = {xs: X_test})\n",
    "Y_figure2 = Y_test\n",
    "plt.scatter(X_figure1,Y_figure1)\n",
    "plt.scatter(X_figure2,Y_figure2)\n",
    "plt.show()"
   ]
  },
  {
   "cell_type": "markdown",
   "metadata": {},
   "source": [
    "## 前窄後寬"
   ]
  },
  {
   "cell_type": "code",
   "execution_count": 154,
   "metadata": {},
   "outputs": [
    {
     "name": "stdout",
     "output_type": "stream",
     "text": [
      "0 1082.29 1037.33\n",
      "1000 85.8955 78.6067\n",
      "2000 85.8039 78.515\n",
      "3000 85.5811 78.5461\n",
      "4000 86.1377 80.0793\n",
      "5000 63.5956 56.3271\n",
      "6000 60.5291 54.5145\n",
      "7000 59.4975 53.295\n",
      "8000 60.4486 53.2576\n",
      "9000 62.377 57.7065\n"
     ]
    }
   ],
   "source": [
    "l1 = add_layer(xs, 13, 50,  activation_function=tf.nn.tanh)\n",
    "l2 = add_layer(l1, 50, 1,  activation_function=None)\n",
    "l3 = add_layer(l2, 1, 100,  activation_function=tf.nn.tanh)\n",
    "l4 = add_layer(l3, 100, 1,  activation_function=None)\n",
    "l5 = add_layer(l4, 1, 150,  activation_function=tf.nn.tanh)\n",
    "prediction = add_layer(l5, 150, 1,  activation_function=None)\n",
    "loss = tf.reduce_mean(tf.reduce_sum(tf.square(ys-prediction), reduction_indices=[1])) # loss\n",
    "\n",
    "train_step = tf.train.GradientDescentOptimizer(0.001).minimize(loss)\n",
    "sess = tf.Session()\n",
    "#start run\n",
    "init = tf.global_variables_initializer()\n",
    "sess.run(init)\n",
    "\n",
    "for i in range(10000):\n",
    "    \n",
    "    sess.run(train_step, feed_dict={xs: X_train, ys: Y_train})\n",
    "    if i % 1000 == 0:\n",
    "        print(i,sess.run(loss, feed_dict={xs: X_train, ys: Y_train}),\n",
    "              sess.run(loss, feed_dict={xs: X_test, ys: Y_test}))"
   ]
  },
  {
   "cell_type": "code",
   "execution_count": 155,
   "metadata": {},
   "outputs": [
    {
     "data": {
      "image/png": "[encoded data removed]",
      "text/plain": [
       "<matplotlib.figure.Figure at 0x149dc297e80>"
      ]
     },
     "metadata": {},
     "output_type": "display_data"
    }
   ],
   "source": [
    "X_figure1 = sess.run(prediction,feed_dict = {xs: X_train})\n",
    "Y_figure1 = Y_train\n",
    "X_figure2 = sess.run(prediction,feed_dict = {xs: X_test})\n",
    "Y_figure2 = Y_test\n",
    "plt.scatter(X_figure1,Y_figure1)\n",
    "plt.scatter(X_figure2,Y_figure2)\n",
    "plt.show()"
   ]
  },
  {
   "cell_type": "markdown",
   "metadata": {},
   "source": [
    "# 結論\n",
    "### 神經網路的層數,神經元,激勵函數還有learning rate真的很難調整\n",
    "### 上面的參數是我稍微選過而已,就已經可以造成很大的差異,\n",
    "### 我想我們應該學習有效率的挑選超參數"
   ]
  }
 ],
 "metadata": {
  "kernelspec": {
   "display_name": "Python 3",
   "language": "python",
   "name": "python3"
  },
  "language_info": {
   "codemirror_mode": {
    "name": "ipython",
    "version": 3
   },
   "file_extension": ".py",
   "mimetype": "text/x-python",
   "name": "python",
   "nbconvert_exporter": "python",
   "pygments_lexer": "ipython3",
   "version": "3.6.1"
  }
 },
 "nbformat": 4,
 "nbformat_minor": 1
}
